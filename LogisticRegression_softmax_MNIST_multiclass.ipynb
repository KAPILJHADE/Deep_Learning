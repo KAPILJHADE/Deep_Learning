{
  "nbformat": 4,
  "nbformat_minor": 0,
  "metadata": {
    "accelerator": "TPU",
    "colab": {
      "name": "LogisticRegression_softmax_MNIST-multiclass.ipynb",
      "provenance": [],
      "collapsed_sections": []
    },
    "kernelspec": {
      "display_name": "Python 3",
      "language": "python",
      "name": "python3"
    },
    "language_info": {
      "codemirror_mode": {
        "name": "ipython",
        "version": 3
      },
      "file_extension": ".py",
      "mimetype": "text/x-python",
      "name": "python",
      "nbconvert_exporter": "python",
      "pygments_lexer": "ipython3",
      "version": "3.6.9"
    }
  },
  "cells": [
    {
      "cell_type": "markdown",
      "metadata": {
        "id": "qNX_xxkmMwtv"
      },
      "source": [
        "                          IMPORTING REQUIRED LIBRARIES\n",
        "\n",
        "\n",
        "\n",
        "\n",
        "\n",
        "\n"
      ]
    },
    {
      "cell_type": "code",
      "metadata": {
        "id": "_A3h9WAh-ozC"
      },
      "source": [
        "from keras.datasets import mnist\n",
        "import numpy as np\n",
        "(x_train, y_train), (x_test, y_test) = mnist.load_data()\n",
        "from keras.utils.np_utils import to_categorical"
      ],
      "execution_count": 24,
      "outputs": []
    },
    {
      "cell_type": "markdown",
      "metadata": {
        "id": "KoIFQCuaOV5s"
      },
      "source": [
        "                          DATA LOADING"
      ]
    },
    {
      "cell_type": "code",
      "metadata": {
        "id": "Y_1PGvLkYUOh"
      },
      "source": [
        "(x_train, y_train), (x_test, y_test) = mnist.load_data()"
      ],
      "execution_count": 25,
      "outputs": []
    },
    {
      "cell_type": "markdown",
      "metadata": {
        "id": "r-yPfxqNNnTE"
      },
      "source": [
        "                          PRINT SHAPE OF THE DATA SET\n",
        "\n"
      ]
    },
    {
      "cell_type": "code",
      "metadata": {
        "id": "nQLP4GYwCWsl",
        "outputId": "41d0c598-cdd2-4408-b84a-e44d39d71651",
        "colab": {
          "base_uri": "https://localhost:8080/",
          "height": 86
        }
      },
      "source": [
        "print(x_train.shape)\n",
        "print(y_train.shape)\n",
        "print(y_test.shape)\n",
        "print(x_test.shape)"
      ],
      "execution_count": 26,
      "outputs": [
        {
          "output_type": "stream",
          "text": [
            "(60000, 28, 28)\n",
            "(60000,)\n",
            "(10000,)\n",
            "(10000, 28, 28)\n"
          ],
          "name": "stdout"
        }
      ]
    },
    {
      "cell_type": "markdown",
      "metadata": {
        "id": "dzhTiv0zO1T9"
      },
      "source": [
        "                          RESHAPING DATA SET"
      ]
    },
    {
      "cell_type": "code",
      "metadata": {
        "id": "foVnbDCsD9WG"
      },
      "source": [
        "x_train = x_train.reshape((len(x_train), np.prod(x_train.shape[1:])))\n",
        "x_test = x_test.reshape((len(x_test), np.prod(x_test.shape[1:])))"
      ],
      "execution_count": 27,
      "outputs": []
    },
    {
      "cell_type": "markdown",
      "metadata": {
        "id": "m5zmx5ktPSPj"
      },
      "source": [
        "                         PRINT RESHAPED DATASET"
      ]
    },
    {
      "cell_type": "code",
      "metadata": {
        "id": "kEHuYirKJFHU",
        "outputId": "f0fd1415-84a4-47bc-a2c1-ee30062d64fb",
        "colab": {
          "base_uri": "https://localhost:8080/",
          "height": 86
        }
      },
      "source": [
        "print(x_train.shape)\n",
        "print(y_train.shape)\n",
        "print(x_test.shape)\n",
        "print(y_test.shape)"
      ],
      "execution_count": 28,
      "outputs": [
        {
          "output_type": "stream",
          "text": [
            "(60000, 784)\n",
            "(60000,)\n",
            "(10000, 784)\n",
            "(10000,)\n"
          ],
          "name": "stdout"
        }
      ]
    },
    {
      "cell_type": "markdown",
      "metadata": {
        "id": "iGn1ZclVPrCo"
      },
      "source": [
        "                          PRINT FIRST 30 IMAGES"
      ]
    },
    {
      "cell_type": "code",
      "metadata": {
        "id": "Et2v-ID0FxtA",
        "outputId": "5e6861f5-f4c3-4ac1-c079-aead57e4cd64",
        "colab": {
          "base_uri": "https://localhost:8080/",
          "height": 66
        }
      },
      "source": [
        "import matplotlib.pyplot as plt\n",
        "\n",
        "n = 30  # how many digits we will display\n",
        "plt.figure(figsize=(20, 4))\n",
        "for i in range(n):\n",
        "    # display original\n",
        "    ax = plt.subplot(2, n, i + 1)\n",
        "    plt.imshow(x_train[i].reshape(28, 28))\n",
        "    plt.gray()\n",
        "    ax.get_xaxis().set_visible(False)\n",
        "    ax.get_yaxis().set_visible(False)\n",
        "\n",
        "plt.show()\n"
      ],
      "execution_count": 29,
      "outputs": [
        {
          "output_type": "display_data",
          "data": {
            "image/png": "[encoded data removed]",
            "text/plain": [
              "<Figure size 1440x288 with 30 Axes>"
            ]
          },
          "metadata": {
            "tags": [],
            "needs_background": "light"
          }
        }
      ]
    },
    {
      "cell_type": "code",
      "metadata": {
        "id": "G8XwsX8XHdut",
        "outputId": "da198327-8eba-4aca-a3f6-7b6672cfb8a1",
        "colab": {
          "base_uri": "https://localhost:8080/",
          "height": 282
        }
      },
      "source": [
        "XX_train = x_train.astype('float32') / 255.\n",
        "XX_test = x_test.astype('float32') / 255.\n",
        "plt.imshow(XX_train[5].reshape(28,28))"
      ],
      "execution_count": 30,
      "outputs": [
        {
          "output_type": "execute_result",
          "data": {
            "text/plain": [
              "<matplotlib.image.AxesImage at 0x7fbef22c4128>"
            ]
          },
          "metadata": {
            "tags": []
          },
          "execution_count": 30
        },
        {
          "output_type": "display_data",
          "data": {
            "image/png": "[encoded data removed]",
            "text/plain": [
              "<Figure size 432x288 with 1 Axes>"
            ]
          },
          "metadata": {
            "tags": [],
            "needs_background": "light"
          }
        }
      ]
    },
    {
      "cell_type": "markdown",
      "metadata": {
        "id": "obPJrmjiIakM"
      },
      "source": [
        "                      ONE HOT ENCODING FOR 10 CLASSES\n",
        "\n"
      ]
    },
    {
      "cell_type": "code",
      "metadata": {
        "id": "8M0JLYr1L92u"
      },
      "source": [
        "XX_train = XX_train.T\n",
        "XX_test = XX_test.T\n",
        "Y_train = to_categorical(y_train, num_classes=10).T\n",
        "Y_test = to_categorical(y_test, num_classes=10).T"
      ],
      "execution_count": 31,
      "outputs": []
    },
    {
      "cell_type": "code",
      "metadata": {
        "id": "gHSaxQvnMSm6",
        "outputId": "e6d45d7e-3185-485d-f150-adcb82a0a95b",
        "colab": {
          "base_uri": "https://localhost:8080/",
          "height": 86
        }
      },
      "source": [
        "print(XX_train.shape)\n",
        "print(Y_train.shape)\n",
        "print(XX_test.shape)\n",
        "print(Y_test.shape)\n",
        "\n"
      ],
      "execution_count": 32,
      "outputs": [
        {
          "output_type": "stream",
          "text": [
            "(784, 60000)\n",
            "(10, 60000)\n",
            "(784, 10000)\n",
            "(10, 10000)\n"
          ],
          "name": "stdout"
        }
      ]
    },
    {
      "cell_type": "markdown",
      "metadata": {
        "id": "eDxUeJvaJEfI"
      },
      "source": [
        "                      SOFTMAX FUNCTION"
      ]
    },
    {
      "cell_type": "code",
      "metadata": {
        "id": "q42aYPFARM56"
      },
      "source": [
        "def softmax(Z):\n",
        "\texpZ = np.exp(Z - np.max(Z))\n",
        "\treturn expZ / expZ.sum(axis=0, keepdims=True)"
      ],
      "execution_count": 33,
      "outputs": []
    },
    {
      "cell_type": "markdown",
      "metadata": {
        "id": "obMnJBE8JQM8"
      },
      "source": [
        "                      INITIALIZE PARAMETERS"
      ]
    },
    {
      "cell_type": "code",
      "metadata": {
        "id": "9As4rjqCJWEl"
      },
      "source": [
        ""
      ],
      "execution_count": null,
      "outputs": []
    },
    {
      "cell_type": "code",
      "metadata": {
        "id": "7juJo2awH5tF"
      },
      "source": [
        "def initialize_param(d):\n",
        "  np.random.seed(1)\n",
        "  w = np.random.randn(d,10)/np.sqrt(d)\n",
        "  b = np.zeros((10,1))\n",
        "  params = {\"w\": w,\"b\": b}\n",
        "  return params\n"
      ],
      "execution_count": 34,
      "outputs": []
    },
    {
      "cell_type": "markdown",
      "metadata": {
        "id": "dTYQ4s8dJ2E3"
      },
      "source": [
        "                        FORWARD PASS"
      ]
    },
    {
      "cell_type": "code",
      "metadata": {
        "id": "k0TksY_m-nzY"
      },
      "source": [
        "def forward(params,X,Y):\n",
        "  w = params[\"w\"]\n",
        "  b = params[\"b\"]\n",
        "  m = X.shape[1]\n",
        "  A = softmax(np.dot(w.T,X) + b)\n",
        "  cost = (-1/m)*np.sum(Y * np.log(A + 1e-9))\n",
        "  return A,cost"
      ],
      "execution_count": 35,
      "outputs": []
    },
    {
      "cell_type": "markdown",
      "metadata": {
        "id": "1O28jgGsJ75h"
      },
      "source": [
        "                        BACK PROPOGATION"
      ]
    },
    {
      "cell_type": "code",
      "metadata": {
        "id": "brLtqEGdIw84"
      },
      "source": [
        "def backprop(X,Y,A):\n",
        "  m = X.shape[1]\n",
        "  dw = (1 / m) * np.dot(X,(A-Y).T)\n",
        "  db = (1 / m) * np.sum(A - Y)\n",
        "\n",
        "  return dw, db"
      ],
      "execution_count": 36,
      "outputs": []
    },
    {
      "cell_type": "markdown",
      "metadata": {
        "id": "mGzBlxURKEQ7"
      },
      "source": [
        "                        OPTIMIZATION"
      ]
    },
    {
      "cell_type": "code",
      "metadata": {
        "id": "z6VL3_rHKCGJ"
      },
      "source": [
        "def optimize(params, X, Y, num_iterations, l_rate):\n",
        "\n",
        "  w = params[\"w\"]\n",
        "  b = params[\"b\"]\n",
        "\n",
        "  costs = []\n",
        "  for i in range(num_iterations):\n",
        "    A,cost = forward(params,X,Y)\n",
        "    dw,db = backprop(X,Y,A)\n",
        "\n",
        "    params[\"w\"] = params[\"w\"] - l_rate * dw\n",
        "    params[\"b\"] = params[\"b\"] - l_rate * db\n",
        "    if (i%100==0):\n",
        "      print('Cost on {} interation: Cost: {}, Normalised Weight: {}, Bias: {}'.format(i, cost, np.linalg.norm(dw), db))\n",
        "    costs.append(cost)\n",
        "  return params,costs\n"
      ],
      "execution_count": 37,
      "outputs": []
    },
    {
      "cell_type": "markdown",
      "metadata": {
        "id": "oxi7gO-BKeyR"
      },
      "source": [
        "                        PREDICTION FUNCTION"
      ]
    },
    {
      "cell_type": "code",
      "metadata": {
        "id": "dYjrTa5y87ws"
      },
      "source": [
        "def predict(params,X,Y):\n",
        "  w = params[\"w\"]\n",
        "  print(w.shape,X.shape)\n",
        "  b = params[\"b\"]\n",
        "  m = X.shape[1]\n",
        "  A = softmax(np.dot(w.T,X)+b)\n",
        "  y_hat = np.argmax(A, axis=0)\n",
        "  Y = np.argmax(Y, axis=0)\n",
        "  accuracy = (y_hat == Y).mean()\n",
        "  return accuracy * 100"
      ],
      "execution_count": 38,
      "outputs": []
    },
    {
      "cell_type": "markdown",
      "metadata": {
        "id": "xTL7xYlFKyu6"
      },
      "source": [
        "                        MODEL FUNCTION"
      ]
    },
    {
      "cell_type": "code",
      "metadata": {
        "id": "8VsbqKXLK9rL"
      },
      "source": [
        "def model(d, X_train, Y_train, X_test, Y_test, num_iter, learning_rate):\n",
        "        params = initialize_param(d)\n",
        "        print(params[\"w\"].shape,\"Parameter Weight Shape\")\n",
        "        params,costs = optimize(params, X_train, Y_train, num_iter, learning_rate)\n",
        "        return params,costs\n",
        "\n"
      ],
      "execution_count": 39,
      "outputs": []
    },
    {
      "cell_type": "markdown",
      "metadata": {
        "id": "tIKGQZ_qLUZk"
      },
      "source": [
        "                      TRAINING AND TESTING THE MODEL"
      ]
    },
    {
      "cell_type": "code",
      "metadata": {
        "id": "Ytw7pHDb-nUo",
        "outputId": "76f8b4b3-35af-4807-854d-33ad47e3e016",
        "colab": {
          "base_uri": "https://localhost:8080/",
          "height": 382
        }
      },
      "source": [
        "params,costs = model(784, XX_train, Y_train, XX_test, Y_test, 2000, 0.3)"
      ],
      "execution_count": 59,
      "outputs": [
        {
          "output_type": "stream",
          "text": [
            "(784, 10) Parameter Weight Shape\n",
            "Cost on 0 interation: Cost: 2.4364883345231814, Normalised Weight: 1.1366058666201924, Bias: -2.8776980798284056e-17\n",
            "Cost on 100 interation: Cost: 0.4439192683711343, Normalised Weight: 0.0590183839375736, Bias: -8.289665250534502e-19\n",
            "Cost on 200 interation: Cost: 0.38412602267703727, Normalised Weight: 0.034254895887607134, Bias: 5.033011044967377e-19\n",
            "Cost on 300 interation: Cost: 0.3583862263620628, Normalised Weight: 0.025157842337116848, Bias: -1.4802973661668755e-18\n",
            "Cost on 400 interation: Cost: 0.3431129756871708, Normalised Weight: 0.020273963550972832, Bias: 1.0954200509634879e-18\n",
            "Cost on 500 interation: Cost: 0.3326786461716981, Normalised Weight: 0.017170972963761476, Bias: -8.881784197001253e-19\n",
            "Cost on 600 interation: Cost: 0.3249543314893982, Normalised Weight: 0.015002065471736931, Bias: 5.329070518200752e-19\n",
            "Cost on 700 interation: Cost: 0.3189294567068399, Normalised Weight: 0.013390342427504127, Bias: 1.0362081563168129e-18\n",
            "Cost on 800 interation: Cost: 0.31405318185634373, Normalised Weight: 0.012140626291006977, Bias: 1.8947806286936006e-18\n",
            "Cost on 900 interation: Cost: 0.3099958380877645, Normalised Weight: 0.011140764362606418, Bias: 1.3322676295501879e-18\n",
            "Cost on 1000 interation: Cost: 0.30654636695271364, Normalised Weight: 0.010321232683114384, Bias: 6.513308411134252e-19\n",
            "Cost on 1100 interation: Cost: 0.30356258779571577, Normalised Weight: 0.009636391213499414, Bias: -7.401486830834377e-19\n",
            "Cost on 1200 interation: Cost: 0.3009448198525221, Normalised Weight: 0.009054918890233622, Bias: 4.144832625267251e-19\n",
            "Cost on 1300 interation: Cost: 0.2986208881046821, Normalised Weight: 0.008554551896329046, Bias: -2.250051996573651e-18\n",
            "Cost on 1400 interation: Cost: 0.29653711860258963, Normalised Weight: 0.00811900750942743, Bias: 1.1842378929335004e-19\n",
            "Cost on 1500 interation: Cost: 0.29465268431425884, Normalised Weight: 0.007736093712177593, Bias: -2.1908401019269758e-18\n",
            "Cost on 1600 interation: Cost: 0.29293592154713516, Normalised Weight: 0.0073964985790631885, Bias: 6.513308411134252e-19\n",
            "Cost on 1700 interation: Cost: 0.29136185457692376, Normalised Weight: 0.007092987862678717, Bias: -1.1842378929335005e-18\n",
            "Cost on 1800 interation: Cost: 0.28991048750481874, Normalised Weight: 0.006819857504360771, Bias: -7.105427357601002e-19\n",
            "Cost on 1900 interation: Cost: 0.28856559814679417, Normalised Weight: 0.006572550749209221, Bias: 2.960594732333751e-19\n"
          ],
          "name": "stdout"
        }
      ]
    },
    {
      "cell_type": "markdown",
      "metadata": {
        "id": "riyezsMBLpND"
      },
      "source": [
        "                      PRINT TRAINING AND TESTING ACCURACY"
      ]
    },
    {
      "cell_type": "code",
      "metadata": {
        "id": "-HgRNpxkXGs6",
        "outputId": "88db850f-74cc-4efa-fe1f-0acaf1dbc5bd",
        "colab": {
          "base_uri": "https://localhost:8080/",
          "height": 86
        }
      },
      "source": [
        "print(\"Train Accuracy: \",predict(params, XX_train, Y_train))\n",
        "print(\"Test Accuracy: \",predict(params, XX_test, Y_test))"
      ],
      "execution_count": 60,
      "outputs": [
        {
          "output_type": "stream",
          "text": [
            "(784, 10) (784, 60000)\n",
            "Train Accuracy:  92.02166666666668\n",
            "(784, 10) (784, 10000)\n",
            "Test Accuracy:  92.05\n"
          ],
          "name": "stdout"
        }
      ]
    },
    {
      "cell_type": "markdown",
      "metadata": {
        "id": "BDJ0NcquL1kl"
      },
      "source": [
        "                       PLOTTING"
      ]
    },
    {
      "cell_type": "code",
      "metadata": {
        "id": "0ACnMr7VXQ5g",
        "outputId": "fae04deb-39e8-4da6-b5fe-2d678bbf59ae",
        "colab": {
          "base_uri": "https://localhost:8080/",
          "height": 282
        }
      },
      "source": [
        "plt.plot(range(len(costs)),costs)"
      ],
      "execution_count": 61,
      "outputs": [
        {
          "output_type": "execute_result",
          "data": {
            "text/plain": [
              "[<matplotlib.lines.Line2D at 0x7fbef2371630>]"
            ]
          },
          "metadata": {
            "tags": []
          },
          "execution_count": 61
        },
        {
          "output_type": "display_data",
          "data": {
            "image/png": "[encoded data removed]",
            "text/plain": [
              "<Figure size 432x288 with 1 Axes>"
            ]
          },
          "metadata": {
            "tags": [],
            "needs_background": "light"
          }
        }
      ]
    }
  ]
}